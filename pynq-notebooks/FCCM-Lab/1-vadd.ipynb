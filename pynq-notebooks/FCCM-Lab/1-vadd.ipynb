{
 "cells": [
  {
   "cell_type": "markdown",
   "metadata": {},
   "source": [
    "# First Steps with PYNQ\n",
    "\n",
    "Import PYNQ as you would do with any other Python package by executing the next Python code cell:"
   ]
  },
  {
   "cell_type": "code",
   "execution_count": 1,
   "metadata": {},
   "outputs": [
    {
     "data": {
      "application/javascript": [
       "\n",
       "try {\n",
       "require(['notebook/js/codecell'], function(codecell) {\n",
       "  codecell.CodeCell.options_default.highlight_modes[\n",
       "      'magic_text/x-csrc'] = {'reg':[/^%%microblaze/]};\n",
       "  Jupyter.notebook.events.one('kernel_ready.Kernel', function(){\n",
       "      Jupyter.notebook.get_cells().map(function(cell){\n",
       "          if (cell.cell_type == 'code'){ cell.auto_highlight(); } }) ;\n",
       "  });\n",
       "});\n",
       "} catch (e) {};\n"
      ]
     },
     "metadata": {},
     "output_type": "display_data"
    },
    {
     "data": {
      "application/javascript": [
       "\n",
       "try {\n",
       "require(['notebook/js/codecell'], function(codecell) {\n",
       "  codecell.CodeCell.options_default.highlight_modes[\n",
       "      'magic_text/x-csrc'] = {'reg':[/^%%pybind11/]};\n",
       "  Jupyter.notebook.events.one('kernel_ready.Kernel', function(){\n",
       "      Jupyter.notebook.get_cells().map(function(cell){\n",
       "          if (cell.cell_type == 'code'){ cell.auto_highlight(); } }) ;\n",
       "  });\n",
       "});\n",
       "} catch (e) {};\n"
      ]
     },
     "metadata": {},
     "output_type": "display_data"
    }
   ],
   "source": [
    "import pynq"
   ]
  },
  {
   "cell_type": "markdown",
   "metadata": {},
   "source": [
    "## Downloading and inspecting a design\n",
    "\n",
    "The PYNQ `Overlay` class represents a bitstream loaded on to the FPGA device of the accelerator card. When you create an Overlay instance the specified xclbin file will be automatically loaded onto the FPGA."
   ]
  },
  {
   "cell_type": "code",
   "execution_count": 2,
   "metadata": {},
   "outputs": [],
   "source": [
    "ol = pynq.Overlay('intro.xclbin')"
   ]
  },
  {
   "cell_type": "markdown",
   "metadata": {},
   "source": [
    "The Overlay class provides information about the design. One advantage of a high-level language is that we can inspect the object directly to see what our design contains. We can do this by using built-in help system in Jupyter:"
   ]
  },
  {
   "cell_type": "code",
   "execution_count": 3,
   "metadata": {
    "scrolled": true
   },
   "outputs": [
    {
     "data": {
      "text/plain": [
       "\u001b[0;31mType:\u001b[0m            Overlay\n",
       "\u001b[0;31mString form:\u001b[0m     <pynq.overlay.Overlay object at 0x7f645db5a438>\n",
       "\u001b[0;31mFile:\u001b[0m            ~/anaconda3/lib/python3.7/site-packages/pynq/overlay.py\n",
       "\u001b[0;31mDocstring:\u001b[0m      \n",
       "Default documentation for overlay intro.xclbin. The following\n",
       "attributes are available on this overlay:\n",
       "\n",
       "IP Blocks\n",
       "----------\n",
       "vadd_1               : pynq.overlay.DefaultIP\n",
       "vmult_1              : pynq.overlay.DefaultIP\n",
       "\n",
       "Hierarchies\n",
       "-----------\n",
       "None\n",
       "\n",
       "Interrupts\n",
       "----------\n",
       "None\n",
       "\n",
       "GPIO Outputs\n",
       "------------\n",
       "None\n",
       "\n",
       "Memories\n",
       "------------\n",
       "bank0                : Memory\n",
       "\u001b[0;31mClass docstring:\u001b[0m\n",
       "This class keeps track of a single bitstream's state and contents.\n",
       "\n",
       "The overlay class holds the state of the bitstream and enables run-time\n",
       "protection of bindings.\n",
       "\n",
       "Our definition of overlay is: \"post-bitstream configurable design\".\n",
       "Hence, this class must expose configurability through content discovery\n",
       "and runtime protection.\n",
       "\n",
       "The overlay class exposes the IP and hierarchies as attributes in the\n",
       "overlay. If no other drivers are available the `DefaultIP` is constructed\n",
       "for IP cores at top level and `DefaultHierarchy` for any hierarchies that\n",
       "contain addressable IP. Custom drivers can be bound to IP and hierarchies\n",
       "by subclassing `DefaultIP` and `DefaultHierarchy`. See the help entries\n",
       "for those class for more details.\n",
       "\n",
       "This class stores four dictionaries: IP, GPIO, interrupt controller\n",
       "and interrupt pin dictionaries.\n",
       "\n",
       "Each entry of the IP dictionary is a mapping:\n",
       "'name' -> {phys_addr, addr_range, type, config, state}, where\n",
       "name (str) is the key of the entry.\n",
       "phys_addr (int) is the physical address of the IP.\n",
       "addr_range (int) is the address range of the IP.\n",
       "type (str) is the type of the IP.\n",
       "config (dict) is a dictionary of the configuration parameters.\n",
       "state (str) is the state information about the IP.\n",
       "\n",
       "Each entry of the GPIO dictionary is a mapping:\n",
       "'name' -> {pin, state}, where\n",
       "name (str) is the key of the entry.\n",
       "pin (int) is the user index of the GPIO, starting from 0.\n",
       "state (str) is the state information about the GPIO.\n",
       "\n",
       "Each entry in the interrupt controller dictionary is a mapping:\n",
       "'name' -> {parent, index}, where\n",
       "name (str) is the name of the interrupt controller.\n",
       "parent (str) is the name of the parent controller or '' if attached\n",
       "directly to the PS.\n",
       "index (int) is the index of the interrupt attached to.\n",
       "\n",
       "Each entry in the interrupt pin dictionary is a mapping:\n",
       "'name' -> {controller, index}, where\n",
       "name (str) is the name of the pin.\n",
       "controller (str) is the name of the interrupt controller.\n",
       "index (int) is the line index.\n",
       "\n",
       "Attributes\n",
       "----------\n",
       "bitfile_name : str\n",
       "    The absolute path of the bitstream.\n",
       "dtbo : str\n",
       "    The absolute path of the dtbo file for the full bitstream.\n",
       "ip_dict : dict\n",
       "    All the addressable IPs from PS. Key is the name of the IP; value is\n",
       "    a dictionary mapping the physical address, address range, IP type,\n",
       "    parameters, registers, and the state associated with that IP:\n",
       "    {str: {'phys_addr' : int, 'addr_range' : int,                'type' : str, 'parameters' : dict, 'registers': dict,                'state' : str}}.\n",
       "gpio_dict : dict\n",
       "    All the GPIO pins controlled by PS. Key is the name of the GPIO pin;\n",
       "    value is a dictionary mapping user index (starting from 0),\n",
       "    and the state associated with that GPIO pin:\n",
       "    {str: {'index' : int, 'state' : str}}.\n",
       "interrupt_controllers : dict\n",
       "    All AXI interrupt controllers in the system attached to\n",
       "    a PS interrupt line. Key is the name of the controller;\n",
       "    value is a dictionary mapping parent interrupt controller and the\n",
       "    line index of this interrupt:\n",
       "    {str: {'parent': str, 'index' : int}}.\n",
       "    The PS is the root of the hierarchy and is unnamed.\n",
       "interrupt_pins : dict\n",
       "    All pins in the design attached to an interrupt controller.\n",
       "    Key is the name of the pin; value is a dictionary\n",
       "    mapping the interrupt controller and the line index used:\n",
       "    {str: {'controller' : str, 'index' : int}}.\n",
       "pr_dict : dict\n",
       "    Dictionary mapping from the name of the partial-reconfigurable\n",
       "    hierarchical blocks to the loaded partial bitstreams:\n",
       "    {str: {'loaded': str, 'dtbo': str}}.\n",
       "device : pynq.Device\n",
       "    The device that the overlay is loaded on\n",
       "\u001b[0;31mInit docstring:\u001b[0m \n",
       "Return a new Overlay object.\n",
       "\n",
       "An overlay instantiates a bitstream object as a member initially.\n",
       "\n",
       "Parameters\n",
       "----------\n",
       "bitfile_name : str\n",
       "    The bitstream name or absolute path as a string.\n",
       "dtbo : str\n",
       "    The dtbo file name or absolute path as a string.\n",
       "download : bool\n",
       "    Whether the overlay should be downloaded.\n",
       "ignore_version : bool\n",
       "    Indicate whether or not to ignore the driver versions.\n",
       "device : pynq.Device\n",
       "    Device on which to load the Overlay. Defaults to\n",
       "    pynq.Device.active_device\n",
       "\n",
       "Note\n",
       "----\n",
       "This class requires a HWH file to be next to bitstream file\n",
       "with same name (e.g. `base.bit` and `base.hwh`).\n"
      ]
     },
     "metadata": {},
     "output_type": "display_data"
    }
   ],
   "source": [
    "ol?"
   ]
  },
  {
   "cell_type": "markdown",
   "metadata": {},
   "source": [
    "We can query the Overlay's `ip_dict` to get details of the hardware kernels in the design:"
   ]
  },
  {
   "cell_type": "code",
   "execution_count": 4,
   "metadata": {},
   "outputs": [
    {
     "data": {
      "application/json": {
       "vadd_1": {
        "addr_range": 4096,
        "adjusted_index": 0,
        "device": "<pynq.pl_server.xrt_device.XrtDevice object at 0x7f645db5aeb8>",
        "driver": "<class 'pynq.overlay.DefaultIP'>",
        "fullpath": "vadd_1",
        "gpio": {},
        "hw_control_protocol": "ap_ctrl_hs",
        "index": 0,
        "interrupts": {},
        "mem_id": null,
        "phys_addr": 0,
        "registers": {
         "CTRL": {
          "access": "read-write",
          "address_offset": 0,
          "description": "OpenCL Control Register",
          "fields": {
           "AP_DONE": {
            "access": "read-only",
            "bit_offset": 1,
            "bit_width": 1,
            "description": "Accelerator has finished - cleared on read"
           },
           "AP_IDLE": {
            "access": "read-only",
            "bit_offset": 2,
            "bit_width": 1,
            "description": "Accelerator is idle"
           },
           "AP_READY": {
            "access": "read-only",
            "bit_offset": 3,
            "bit_width": 1,
            "description": "Accelerator is ready to start next computation"
           },
           "AP_START": {
            "access": "read-write",
            "bit_offset": 0,
            "bit_width": 1,
            "description": "Start the accelerator"
           },
           "AUTO_RESTART": {
            "access": "read-write",
            "bit_offset": 7,
            "bit_width": 1,
            "description": "Restart the accelerator automatically when finished"
           }
          },
          "id": null,
          "size": 4,
          "type": "unsigned int"
         },
         "in1": {
          "access": "read-write;",
          "address_offset": 16,
          "description": "OpenCL Argument Register",
          "host_size": 8,
          "id": 0,
          "memory": "bank0",
          "size": 64,
          "type": "unsigned int const *"
         },
         "in2": {
          "access": "read-write;",
          "address_offset": 28,
          "description": "OpenCL Argument Register",
          "host_size": 8,
          "id": 1,
          "memory": "bank0",
          "size": 64,
          "type": "unsigned int const *"
         },
         "out_r": {
          "access": "read-write;",
          "address_offset": 40,
          "description": "OpenCL Argument Register",
          "host_size": 8,
          "id": 2,
          "memory": "bank0",
          "size": 64,
          "type": "unsigned int*"
         },
         "size": {
          "access": "read-write;",
          "address_offset": 52,
          "description": "OpenCL Argument Register",
          "host_size": 4,
          "id": 3,
          "size": 32,
          "type": "int"
         }
        },
        "state": null,
        "streams": {},
        "type": "xilinx.com:hls:vadd:1.0",
        "xclbin_uuid": "ad6945c38a914275b2da9d6770d591d9"
       },
       "vmult_1": {
        "addr_range": 4096,
        "adjusted_index": 1,
        "device": "<pynq.pl_server.xrt_device.XrtDevice object at 0x7f645db5aeb8>",
        "driver": "<class 'pynq.overlay.DefaultIP'>",
        "fullpath": "vmult_1",
        "gpio": {},
        "hw_control_protocol": "s_axilite",
        "index": 1,
        "interrupts": {},
        "mem_id": null,
        "phys_addr": 65536,
        "registers": {
         "A": {
          "access": "read-write;",
          "address_offset": 16,
          "description": "OpenCL Argument Register",
          "host_size": 8,
          "id": 0,
          "memory": "bank0",
          "size": 64,
          "type": "int*"
         },
         "B": {
          "access": "read-write;",
          "address_offset": 28,
          "description": "OpenCL Argument Register",
          "host_size": 8,
          "id": 1,
          "memory": "bank0",
          "size": 64,
          "type": "int*"
         },
         "C": {
          "access": "read-write;",
          "address_offset": 40,
          "description": "OpenCL Argument Register",
          "host_size": 8,
          "id": 2,
          "memory": "bank0",
          "size": 64,
          "type": "int*"
         },
         "CTRL": {
          "access": "read-write",
          "address_offset": 0,
          "description": "OpenCL Control Register",
          "fields": {
           "AP_DONE": {
            "access": "read-only",
            "bit_offset": 1,
            "bit_width": 1,
            "description": "Accelerator has finished - cleared on read"
           },
           "AP_IDLE": {
            "access": "read-only",
            "bit_offset": 2,
            "bit_width": 1,
            "description": "Accelerator is idle"
           },
           "AP_READY": {
            "access": "read-only",
            "bit_offset": 3,
            "bit_width": 1,
            "description": "Accelerator is ready to start next computation"
           },
           "AP_START": {
            "access": "read-write",
            "bit_offset": 0,
            "bit_width": 1,
            "description": "Start the accelerator"
           },
           "AUTO_RESTART": {
            "access": "read-write",
            "bit_offset": 7,
            "bit_width": 1,
            "description": "Restart the accelerator automatically when finished"
           }
          },
          "id": null,
          "size": 4,
          "type": "unsigned int"
         },
         "n_elements": {
          "access": "read-write;",
          "address_offset": 52,
          "description": "OpenCL Argument Register",
          "host_size": 4,
          "id": 3,
          "size": 32,
          "type": "int"
         }
        },
        "state": null,
        "streams": {},
        "type": "xilinx.com:hls:vmult:1.0",
        "xclbin_uuid": "ad6945c38a914275b2da9d6770d591d9"
       }
      },
      "text/plain": [
       "{'vadd_1': {'phys_addr': 0,\n",
       "  'addr_range': 4096,\n",
       "  'type': 'xilinx.com:hls:vadd:1.0',\n",
       "  'hw_control_protocol': 'ap_ctrl_hs',\n",
       "  'fullpath': 'vadd_1',\n",
       "  'registers': {'CTRL': {'address_offset': 0,\n",
       "    'access': 'read-write',\n",
       "    'size': 4,\n",
       "    'description': 'OpenCL Control Register',\n",
       "    'type': 'unsigned int',\n",
       "    'id': None,\n",
       "    'fields': {'AP_START': {'access': 'read-write',\n",
       "      'bit_offset': 0,\n",
       "      'bit_width': 1,\n",
       "      'description': 'Start the accelerator'},\n",
       "     'AP_DONE': {'access': 'read-only',\n",
       "      'bit_offset': 1,\n",
       "      'bit_width': 1,\n",
       "      'description': 'Accelerator has finished - cleared on read'},\n",
       "     'AP_IDLE': {'access': 'read-only',\n",
       "      'bit_offset': 2,\n",
       "      'bit_width': 1,\n",
       "      'description': 'Accelerator is idle'},\n",
       "     'AP_READY': {'access': 'read-only',\n",
       "      'bit_offset': 3,\n",
       "      'bit_width': 1,\n",
       "      'description': 'Accelerator is ready to start next computation'},\n",
       "     'AUTO_RESTART': {'access': 'read-write',\n",
       "      'bit_offset': 7,\n",
       "      'bit_width': 1,\n",
       "      'description': 'Restart the accelerator automatically when finished'}}},\n",
       "   'in1': {'address_offset': 16,\n",
       "    'access': 'read-write;',\n",
       "    'size': 64,\n",
       "    'host_size': 8,\n",
       "    'description': 'OpenCL Argument Register',\n",
       "    'type': 'unsigned int const *',\n",
       "    'id': 0,\n",
       "    'memory': 'bank0'},\n",
       "   'in2': {'address_offset': 28,\n",
       "    'access': 'read-write;',\n",
       "    'size': 64,\n",
       "    'host_size': 8,\n",
       "    'description': 'OpenCL Argument Register',\n",
       "    'type': 'unsigned int const *',\n",
       "    'id': 1,\n",
       "    'memory': 'bank0'},\n",
       "   'out_r': {'address_offset': 40,\n",
       "    'access': 'read-write;',\n",
       "    'size': 64,\n",
       "    'host_size': 8,\n",
       "    'description': 'OpenCL Argument Register',\n",
       "    'type': 'unsigned int*',\n",
       "    'id': 2,\n",
       "    'memory': 'bank0'},\n",
       "   'size': {'address_offset': 52,\n",
       "    'access': 'read-write;',\n",
       "    'size': 32,\n",
       "    'host_size': 4,\n",
       "    'description': 'OpenCL Argument Register',\n",
       "    'type': 'int',\n",
       "    'id': 3}},\n",
       "  'streams': {},\n",
       "  'mem_id': None,\n",
       "  'state': None,\n",
       "  'interrupts': {},\n",
       "  'gpio': {},\n",
       "  'xclbin_uuid': 'ad6945c38a914275b2da9d6770d591d9',\n",
       "  'adjusted_index': 0,\n",
       "  'index': 0,\n",
       "  'device': <pynq.pl_server.xrt_device.XrtDevice at 0x7f645db5aeb8>,\n",
       "  'driver': pynq.overlay.DefaultIP},\n",
       " 'vmult_1': {'phys_addr': 65536,\n",
       "  'addr_range': 4096,\n",
       "  'type': 'xilinx.com:hls:vmult:1.0',\n",
       "  'hw_control_protocol': 's_axilite',\n",
       "  'fullpath': 'vmult_1',\n",
       "  'registers': {'CTRL': {'address_offset': 0,\n",
       "    'access': 'read-write',\n",
       "    'size': 4,\n",
       "    'description': 'OpenCL Control Register',\n",
       "    'type': 'unsigned int',\n",
       "    'id': None,\n",
       "    'fields': {'AP_START': {'access': 'read-write',\n",
       "      'bit_offset': 0,\n",
       "      'bit_width': 1,\n",
       "      'description': 'Start the accelerator'},\n",
       "     'AP_DONE': {'access': 'read-only',\n",
       "      'bit_offset': 1,\n",
       "      'bit_width': 1,\n",
       "      'description': 'Accelerator has finished - cleared on read'},\n",
       "     'AP_IDLE': {'access': 'read-only',\n",
       "      'bit_offset': 2,\n",
       "      'bit_width': 1,\n",
       "      'description': 'Accelerator is idle'},\n",
       "     'AP_READY': {'access': 'read-only',\n",
       "      'bit_offset': 3,\n",
       "      'bit_width': 1,\n",
       "      'description': 'Accelerator is ready to start next computation'},\n",
       "     'AUTO_RESTART': {'access': 'read-write',\n",
       "      'bit_offset': 7,\n",
       "      'bit_width': 1,\n",
       "      'description': 'Restart the accelerator automatically when finished'}}},\n",
       "   'A': {'address_offset': 16,\n",
       "    'access': 'read-write;',\n",
       "    'size': 64,\n",
       "    'host_size': 8,\n",
       "    'description': 'OpenCL Argument Register',\n",
       "    'type': 'int*',\n",
       "    'id': 0,\n",
       "    'memory': 'bank0'},\n",
       "   'B': {'address_offset': 28,\n",
       "    'access': 'read-write;',\n",
       "    'size': 64,\n",
       "    'host_size': 8,\n",
       "    'description': 'OpenCL Argument Register',\n",
       "    'type': 'int*',\n",
       "    'id': 1,\n",
       "    'memory': 'bank0'},\n",
       "   'C': {'address_offset': 40,\n",
       "    'access': 'read-write;',\n",
       "    'size': 64,\n",
       "    'host_size': 8,\n",
       "    'description': 'OpenCL Argument Register',\n",
       "    'type': 'int*',\n",
       "    'id': 2,\n",
       "    'memory': 'bank0'},\n",
       "   'n_elements': {'address_offset': 52,\n",
       "    'access': 'read-write;',\n",
       "    'size': 32,\n",
       "    'host_size': 4,\n",
       "    'description': 'OpenCL Argument Register',\n",
       "    'type': 'int',\n",
       "    'id': 3}},\n",
       "  'streams': {},\n",
       "  'mem_id': None,\n",
       "  'state': None,\n",
       "  'interrupts': {},\n",
       "  'gpio': {},\n",
       "  'xclbin_uuid': 'ad6945c38a914275b2da9d6770d591d9',\n",
       "  'adjusted_index': 1,\n",
       "  'index': 1,\n",
       "  'device': <pynq.pl_server.xrt_device.XrtDevice at 0x7f645db5aeb8>,\n",
       "  'driver': pynq.overlay.DefaultIP}}"
      ]
     },
     "execution_count": 4,
     "metadata": {
      "application/json": {
       "expanded": false,
       "root": "ip_dict"
      }
     },
     "output_type": "execute_result"
    }
   ],
   "source": [
    "ol.ip_dict"
   ]
  },
  {
   "cell_type": "markdown",
   "metadata": {},
   "source": [
    "In the output above, you can expand vadd_1 and vmult_1 to see their attributes, or search for an attribute in the *Filter* search box. Try expanding vadd_1, and then try filtering for **addr**"
   ]
  },
  {
   "cell_type": "markdown",
   "metadata": {},
   "source": [
    "Another way to inspect the design is by using tab-completion. In the next cell, try placing the cursor after the `ol.` and pressing the tab key to see a list of attributes for the object which includes the hardware kernels and memory banks. (You **should not** execute this cell before editing, it is used for illustrating the tab-completion.)"
   ]
  },
  {
   "cell_type": "code",
   "execution_count": null,
   "metadata": {},
   "outputs": [],
   "source": [
    "ol."
   ]
  },
  {
   "cell_type": "markdown",
   "metadata": {},
   "source": [
    "## Managing Memory\n",
    "\n",
    "Before exploring the hardware kernels, we need some buffers on the card for them to use. In PYNQ all buffer management is performed by the `pynq.allocate` function. If you have used [NumPy](https://numpy.org/) in the past, then the API should be familiar. `allocate` takes two parameters: the shape of the array and the [data type to use](https://docs.scipy.org/doc/numpy/user/basics.types.html). NumPy represents basic types as a two-character string with the first character being the type and the second the length in bytes. For example, here are some common types:\n",
    "\n",
    "|NumPy type | Type |\n",
    "|---:|---|\n",
    "| `\"u4\"` | 32-bit unsigned integer |\n",
    "| `\"i8\"` | 64-bit signed integer   |\n",
    "| `\"f4\" `| single precision floating point   |\n",
    "\n",
    "For our vector addition kernel lets allocate three buffers of 1024x1024 unsigned integers:"
   ]
  },
  {
   "cell_type": "code",
   "execution_count": 5,
   "metadata": {},
   "outputs": [],
   "source": [
    "in_a = pynq.allocate((1024,1024), 'u4')\n",
    "in_b = pynq.allocate((1024,1024), 'u4')\n",
    "out_c = pynq.allocate((1024,1024), 'u4')"
   ]
  },
  {
   "cell_type": "markdown",
   "metadata": {},
   "source": [
    "As buffers in PYNQ are NumPy arrays we can use standard NumPy operations to assign values to our input array. To keep things simple, we'll set our two input buffers to constant values. When copying data into the buffers we must use some form of indexing operation to make sure we copy into the contents of the buffer and not change the buffer object itself. For example, executing `in_a = 100` would result in our variable `in_a` being reassigned to the integer 100 which is not what we want."
   ]
  },
  {
   "cell_type": "code",
   "execution_count": 6,
   "metadata": {},
   "outputs": [],
   "source": [
    "in_a[:] = 100\n",
    "in_b[:] = 200"
   ]
  },
  {
   "cell_type": "markdown",
   "metadata": {},
   "source": [
    "A PYNQ buffer is actually two buffers that are mirrors of each other - one in the host's memory, and one on the target FPGA device, or the memory attached to this device. So far we have only updated the host version of the buffer so any hardware kernsl on the device will not see the updated values. To update the device's version of the buffer we use the `.sync_to_device` function to replicate the changes."
   ]
  },
  {
   "cell_type": "code",
   "execution_count": 7,
   "metadata": {},
   "outputs": [],
   "source": [
    "in_a.sync_to_device()\n",
    "in_b.sync_to_device()"
   ]
  },
  {
   "cell_type": "markdown",
   "metadata": {},
   "source": [
    "## Accelerator Objects\n",
    "\n",
    "To interact with the hardware kernel we use the corresponding attribute of the Overlay class. For this example we're going to be looking at the `vadd_1` kernel which has been discussed in depth in the rest of the workshop."
   ]
  },
  {
   "cell_type": "code",
   "execution_count": 8,
   "metadata": {},
   "outputs": [],
   "source": [
    "vadd = ol.vadd_1"
   ]
  },
  {
   "cell_type": "markdown",
   "metadata": {},
   "source": [
    "The object representing the kernel has three main APIs\n",
    "\n",
    " * `.call` to call (execute) the hardware kernel\n",
    " * `.signature` to get the Python function signature of the kernel - this will match how the kernel was originally written\n",
    " * `.args` to get a dictionary describing the arguments in more details - for example which memory bank the argument is attached to\n",
    "\n",
    "Starting with `.signature` we can check that in this case, the vector add function takes 4 arguments - 2 input arrays, an output array and the number of elements in the array:\n"
   ]
  },
  {
   "cell_type": "code",
   "execution_count": 9,
   "metadata": {},
   "outputs": [
    {
     "data": {
      "text/plain": [
       "<Signature (in1: 'unsigned int const *', in2: 'unsigned int const *', out_r: 'unsigned int*', size: 'int')>"
      ]
     },
     "execution_count": 9,
     "metadata": {},
     "output_type": "execute_result"
    }
   ],
   "source": [
    "vadd.signature"
   ]
  },
  {
   "cell_type": "markdown",
   "metadata": {},
   "source": [
    "For more details we can refer to `.args` which, among other things, will also tell us what memory banks the arguments should be placed in. For this example only the default `bank0` is used."
   ]
  },
  {
   "cell_type": "code",
   "execution_count": 10,
   "metadata": {},
   "outputs": [
    {
     "data": {
      "text/plain": [
       "{'in1': XrtArgument(name='in1', index=1, type='unsigned int const *', mem='bank0'),\n",
       " 'in2': XrtArgument(name='in2', index=2, type='unsigned int const *', mem='bank0'),\n",
       " 'out_r': XrtArgument(name='out_r', index=3, type='unsigned int*', mem='bank0'),\n",
       " 'size': XrtArgument(name='size', index=4, type='int', mem=None)}"
      ]
     },
     "execution_count": 10,
     "metadata": {},
     "output_type": "execute_result"
    }
   ],
   "source": [
    "vadd.args"
   ]
  },
  {
   "cell_type": "markdown",
   "metadata": {},
   "source": [
    "Finally we can call the hardware kernel using the buffers we allocated previously. The `.call` function will block until the computation is complete."
   ]
  },
  {
   "cell_type": "code",
   "execution_count": 11,
   "metadata": {},
   "outputs": [],
   "source": [
    "vadd.call(in_a, in_b, out_c, 1024*1024)"
   ]
  },
  {
   "cell_type": "markdown",
   "metadata": {},
   "source": [
    "Even though the computation has finished the result is still in the device buffer. To actually see the result in the notebook we need to bring the result back into host memory using `.sync_from_device`."
   ]
  },
  {
   "cell_type": "code",
   "execution_count": 12,
   "metadata": {},
   "outputs": [],
   "source": [
    "out_c.sync_from_device()"
   ]
  },
  {
   "cell_type": "markdown",
   "metadata": {},
   "source": [
    "We can now print the buffer and see what looks like a sea of constant values (as expected)."
   ]
  },
  {
   "cell_type": "code",
   "execution_count": 13,
   "metadata": {},
   "outputs": [
    {
     "data": {
      "text/plain": [
       "PynqBuffer([[300, 300, 300, ..., 300, 300, 300],\n",
       "            [300, 300, 300, ..., 300, 300, 300],\n",
       "            [300, 300, 300, ..., 300, 300, 300],\n",
       "            ...,\n",
       "            [300, 300, 300, ..., 300, 300, 300],\n",
       "            [300, 300, 300, ..., 300, 300, 300],\n",
       "            [300, 300, 300, ..., 300, 300, 300]], dtype=uint32)"
      ]
     },
     "execution_count": 13,
     "metadata": {},
     "output_type": "execute_result"
    }
   ],
   "source": [
    "out_c"
   ]
  },
  {
   "cell_type": "markdown",
   "metadata": {},
   "source": [
    "To be more rigorous we can use NumPy to verify in software that the output buffer is actually the result of adding the two input buffers."
   ]
  },
  {
   "cell_type": "code",
   "execution_count": 14,
   "metadata": {},
   "outputs": [
    {
     "data": {
      "text/plain": [
       "True"
      ]
     },
     "execution_count": 14,
     "metadata": {},
     "output_type": "execute_result"
    }
   ],
   "source": [
    "import numpy as np\n",
    "np.array_equal(in_a + in_b, out_c)"
   ]
  },
  {
   "cell_type": "markdown",
   "metadata": {},
   "source": [
    "## Exercises\n",
    "\n",
    "The overlay that's currently loaded also contains a `vmult_1` kernel which performs vector multiplication.\n",
    "\n",
    " 1. Call the vmult kernel and verify it does what's expected\n",
    " 2. Combine it with the `vadd` kernel to create a vector multiply-accumulate function\n",
    " 3. (Optional) Have a look at the NumPy random number class to create some more interesting test data than just constants\n",
    "\n",
    "New cells will automatically be added to the notebook after you run each one. Once you're finished shut down the kernel using the _Kernel_ menu to make sure the device is free for the other notebooks."
   ]
  },
  {
   "cell_type": "code",
   "execution_count": null,
   "metadata": {},
   "outputs": [],
   "source": []
  },
  {
   "cell_type": "markdown",
   "metadata": {},
   "source": [
    "Copyright (C) 2020 Xilinx, Inc"
   ]
  }
 ],
 "metadata": {
  "kernelspec": {
   "display_name": "Python 3",
   "language": "python",
   "name": "python3"
  },
  "language_info": {
   "codemirror_mode": {
    "name": "ipython",
    "version": 3
   },
   "file_extension": ".py",
   "mimetype": "text/x-python",
   "name": "python",
   "nbconvert_exporter": "python",
   "pygments_lexer": "ipython3",
   "version": "3.7.3"
  }
 },
 "nbformat": 4,
 "nbformat_minor": 4
}
